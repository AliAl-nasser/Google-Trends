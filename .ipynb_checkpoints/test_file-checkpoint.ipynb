{
 "cells": [
  {
   "cell_type": "code",
   "execution_count": 9,
   "id": "c75e2cbb",
   "metadata": {},
   "outputs": [
    {
     "data": {
      "text/html": [
       "<div>\n",
       "<style scoped>\n",
       "    .dataframe tbody tr th:only-of-type {\n",
       "        vertical-align: middle;\n",
       "    }\n",
       "\n",
       "    .dataframe tbody tr th {\n",
       "        vertical-align: top;\n",
       "    }\n",
       "\n",
       "    .dataframe thead th {\n",
       "        text-align: right;\n",
       "    }\n",
       "</style>\n",
       "<table border=\"1\" class=\"dataframe\">\n",
       "  <thead>\n",
       "    <tr style=\"text-align: right;\">\n",
       "      <th></th>\n",
       "      <th>pop_est</th>\n",
       "      <th>continent</th>\n",
       "      <th>name</th>\n",
       "      <th>iso_a3</th>\n",
       "      <th>gdp_md_est</th>\n",
       "      <th>geometry</th>\n",
       "    </tr>\n",
       "  </thead>\n",
       "  <tbody>\n",
       "    <tr>\n",
       "      <th>143</th>\n",
       "      <td>64769452</td>\n",
       "      <td>Europe</td>\n",
       "      <td>United Kingdom</td>\n",
       "      <td>GBR</td>\n",
       "      <td>2788000.0</td>\n",
       "      <td>MULTIPOLYGON (((-6.19788 53.86757, -6.95373 54...</td>\n",
       "    </tr>\n",
       "  </tbody>\n",
       "</table>\n",
       "</div>"
      ],
      "text/plain": [
       "      pop_est continent            name iso_a3  gdp_md_est  \\\n",
       "143  64769452    Europe  United Kingdom    GBR   2788000.0   \n",
       "\n",
       "                                              geometry  \n",
       "143  MULTIPOLYGON (((-6.19788 53.86757, -6.95373 54...  "
      ]
     },
     "execution_count": 9,
     "metadata": {},
     "output_type": "execute_result"
    }
   ],
   "source": [
    "import geopandas as gpd\n",
    "world = gpd.read_file(gpd.datasets.get_path('naturalearth_lowres'))\n",
    "country = world.query('name == \"United Kingdom\"')\n",
    "country"
   ]
  },
  {
   "cell_type": "code",
   "execution_count": 6,
   "id": "41a792e7",
   "metadata": {},
   "outputs": [
    {
     "name": "stdout",
     "output_type": "stream",
     "text": [
      "2017\n",
      "                          title exploreQuery\n",
      "0                Hurricane Irma             \n",
      "1                    Matt Lauer             \n",
      "2                     Tom Petty             \n",
      "3                    Super Bowl             \n",
      "4            Las Vegas shooting             \n",
      "5  Mayweather vs McGregor fight             \n",
      "6                 Solar eclipse             \n",
      "7              Hurricane Harvey             \n",
      "8               Aaron Hernandez             \n",
      "9                Fidget Spinner             \n",
      "2018\n",
      "                   title exploreQuery\n",
      "0              World Cup             \n",
      "1     Hurricane Florence             \n",
      "2             Mac Miller             \n",
      "3             Kate Spade             \n",
      "4       Anthony Bourdain             \n",
      "5          Black Panther             \n",
      "6  Mega Millions Results             \n",
      "7               Stan Lee             \n",
      "8            Demi Lovato             \n",
      "9       Election Results             \n",
      "2019\n",
      "               title exploreQuery\n",
      "0        Disney Plus             \n",
      "1      Cameron Boyce             \n",
      "2      Nipsey Hussle             \n",
      "3   Hurricane Dorian             \n",
      "4      Antonio Brown             \n",
      "5         Luke Perry             \n",
      "6  Avengers: Endgame             \n",
      "7    Game of Thrones             \n",
      "8          iPhone 11             \n",
      "9    Jussie Smollett             \n",
      "2020\n",
      "                         title exploreQuery\n",
      "0             Election results             \n",
      "1                  Coronavirus             \n",
      "2                  Kobe Bryant             \n",
      "3           Coronavirus update             \n",
      "4         Coronavirus symptoms             \n",
      "5                         Zoom             \n",
      "6  Who is winning the election             \n",
      "7                  Naya Rivera             \n",
      "8             Chadwick Boseman             \n",
      "9                PlayStation 5          PS5\n"
     ]
    }
   ],
   "source": [
    "from pytrends.request import TrendReq\n",
    "pytrends = TrendReq(hl='en-US', tz=360)\n",
    "for i in range(2017, 2021):\n",
    "    print(i)\n",
    "    df=pytrends.top_charts(i, hl='en-US', tz=300, geo='US')\n",
    "    print(df)"
   ]
  }
 ],
 "metadata": {
  "kernelspec": {
   "display_name": "Python 3 (ipykernel)",
   "language": "python",
   "name": "python3"
  },
  "language_info": {
   "codemirror_mode": {
    "name": "ipython",
    "version": 3
   },
   "file_extension": ".py",
   "mimetype": "text/x-python",
   "name": "python",
   "nbconvert_exporter": "python",
   "pygments_lexer": "ipython3",
   "version": "3.8.10"
  }
 },
 "nbformat": 4,
 "nbformat_minor": 5
}
