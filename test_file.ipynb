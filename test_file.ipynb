{
 "cells": [
  {
   "cell_type": "code",
   "execution_count": 9,
   "id": "c75e2cbb",
   "metadata": {},
   "outputs": [
    {
     "data": {
      "text/html": [
       "<div>\n",
       "<style scoped>\n",
       "    .dataframe tbody tr th:only-of-type {\n",
       "        vertical-align: middle;\n",
       "    }\n",
       "\n",
       "    .dataframe tbody tr th {\n",
       "        vertical-align: top;\n",
       "    }\n",
       "\n",
       "    .dataframe thead th {\n",
       "        text-align: right;\n",
       "    }\n",
       "</style>\n",
       "<table border=\"1\" class=\"dataframe\">\n",
       "  <thead>\n",
       "    <tr style=\"text-align: right;\">\n",
       "      <th></th>\n",
       "      <th>pop_est</th>\n",
       "      <th>continent</th>\n",
       "      <th>name</th>\n",
       "      <th>iso_a3</th>\n",
       "      <th>gdp_md_est</th>\n",
       "      <th>geometry</th>\n",
       "    </tr>\n",
       "  </thead>\n",
       "  <tbody>\n",
       "    <tr>\n",
       "      <th>143</th>\n",
       "      <td>64769452</td>\n",
       "      <td>Europe</td>\n",
       "      <td>United Kingdom</td>\n",
       "      <td>GBR</td>\n",
       "      <td>2788000.0</td>\n",
       "      <td>MULTIPOLYGON (((-6.19788 53.86757, -6.95373 54...</td>\n",
       "    </tr>\n",
       "  </tbody>\n",
       "</table>\n",
       "</div>"
      ],
      "text/plain": [
       "      pop_est continent            name iso_a3  gdp_md_est  \\\n",
       "143  64769452    Europe  United Kingdom    GBR   2788000.0   \n",
       "\n",
       "                                              geometry  \n",
       "143  MULTIPOLYGON (((-6.19788 53.86757, -6.95373 54...  "
      ]
     },
     "execution_count": 9,
     "metadata": {},
     "output_type": "execute_result"
    }
   ],
   "source": [
    "import geopandas as gpd\n",
    "world = gpd.read_file(gpd.datasets.get_path('naturalearth_lowres'))\n",
    "country = world.query('name == \"United Kingdom\"')\n",
    "country"
   ]
  },
  {
   "cell_type": "code",
   "execution_count": 14,
   "id": "41a792e7",
   "metadata": {},
   "outputs": [
    {
     "name": "stdout",
     "output_type": "stream",
     "text": [
      "                  title exploreQuery\n",
      "0           Cilla Black             \n",
      "1   Lady Colin Campbell             \n",
      "2        Anne Kirkbride             \n",
      "3                 Adele             \n",
      "4        Caitlyn Jenner             \n",
      "5             Ruby Rose             \n",
      "6         Katie Hopkins             \n",
      "7               Madonna             \n",
      "8  Bobbi Kristina Brown             \n",
      "9              Rita Ora             \n",
      "                title exploreQuery\n",
      "0               Euros             \n",
      "1      Premier League             \n",
      "2   Christian Eriksen             \n",
      "3       Covid vaccine             \n",
      "4       Prince Philip             \n",
      "5        Matt Hancock             \n",
      "6       Emma Raducanu             \n",
      "7       Sarah Everard             \n",
      "8  England vs Denmark             \n",
      "9           Sean Lock             \n"
     ]
    }
   ],
   "source": [
    "from pytrends.request import TrendReq\n",
    "pytrends = TrendReq(hl='en-US', tz=360)\n",
    "for i in (2015, 2021):\n",
    "    df=pytrends.top_charts(i, hl='en-US', tz=300, geo='GB')\n",
    "    print(df)"
   ]
  }
 ],
 "metadata": {
  "kernelspec": {
   "display_name": "Python 3 (ipykernel)",
   "language": "python",
   "name": "python3"
  },
  "language_info": {
   "codemirror_mode": {
    "name": "ipython",
    "version": 3
   },
   "file_extension": ".py",
   "mimetype": "text/x-python",
   "name": "python",
   "nbconvert_exporter": "python",
   "pygments_lexer": "ipython3",
   "version": "3.8.10"
  }
 },
 "nbformat": 4,
 "nbformat_minor": 5
}
